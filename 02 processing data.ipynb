{
 "cells": [
  {
   "attachments": {},
   "cell_type": "markdown",
   "metadata": {},
   "source": [
    "### Processing Data\n",
    "\n",
    "After gathering three weeks of tweets surrounding the IN-01 congressional district race, I had to convert the raw JSON files into a readable format."
   ]
  },
  {
   "cell_type": "code",
   "execution_count": 1,
   "metadata": {},
   "outputs": [],
   "source": [
    "import pandas as pd"
   ]
  },
  {
   "cell_type": "code",
   "execution_count": 4,
   "metadata": {},
   "outputs": [],
   "source": [
    "mrvan_1 = pd.read_json(\"data/raw_data/mrvan_1.json\")\n",
    "mrvan_2 = pd.read_json(\"data/raw_data/mrvan_2.json\")\n",
    "mrvan_3 = pd.read_json(\"data/raw_data/mrvan_3.json\")\n",
    "\n",
    "jrg_1 = pd.read_json(\"data/raw_data/jrg_1.json\")\n",
    "jrg_2 = pd.read_json(\"data/raw_data/jrg_2.json\")\n",
    "jrg_3 = pd.read_json(\"data/raw_data/jrg_3.json\")\n",
    "\n",
    "in_1 = pd.read_json(\"data/raw_data/in_1.json\")\n",
    "in_2 = pd.read_json(\"data/raw_data/in_2.json\")\n",
    "in_3 = pd.read_json(\"data/raw_data/in_3.json\")\n",
    "\n",
    "nwi_1 = pd.read_json(\"data/raw_data/nwi_1.json\")\n",
    "nwi_2 = pd.read_json(\"data/raw_data/nwi_2.json\")\n",
    "nwi_3 = pd.read_json(\"data/raw_data/nwi_3.json\")\n"
   ]
  },
  {
   "attachments": {},
   "cell_type": "markdown",
   "metadata": {},
   "source": [
    "For my own sanity, I decided to concatenate each of the three runs into combined DataFrames that stored full lists of the tweets of the three weeks of data gathering."
   ]
  },
  {
   "cell_type": "code",
   "execution_count": 5,
   "metadata": {},
   "outputs": [],
   "source": [
    "mrvan_df = pd.concat([mrvan_1, mrvan_2, mrvan_3], axis=0, join=\"outer\", ignore_index=True)\n",
    "jrg_df = pd.concat([jrg_1, jrg_2, jrg_3], axis=0, join=\"outer\", ignore_index=True)\n",
    "in_df = pd.concat([in_1, in_2, in_3], axis=0, join=\"outer\", ignore_index=True)\n",
    "nwi_df = pd.concat([nwi_1, nwi_2, nwi_3], axis=0, join=\"outer\", ignore_index=True)"
   ]
  },
  {
   "cell_type": "code",
   "execution_count": 6,
   "metadata": {},
   "outputs": [
    {
     "name": "stdout",
     "output_type": "stream",
     "text": [
      "Mrvan Tweet Count: 2654\n",
      "JRG Tweet Count: 12892\n",
      "IN-01 Tweet Count: 4743\n",
      "NWI Times Tweet Count: 778\n"
     ]
    }
   ],
   "source": [
    "print(f\"Mrvan Tweet Count: {len(mrvan_df)}\")\n",
    "print(f\"JRG Tweet Count: {len(jrg_df)}\")\n",
    "print(f\"IN-01 Tweet Count: {len(in_df)}\")\n",
    "print(f\"NWI Times Tweet Count: {len(nwi_df)}\")"
   ]
  },
  {
   "attachments": {},
   "cell_type": "markdown",
   "metadata": {},
   "source": [
    "After combining the runs into a readable, normalized format, they can then be saved in the `.pkl` format for exporting."
   ]
  },
  {
   "cell_type": "code",
   "execution_count": 7,
   "metadata": {},
   "outputs": [],
   "source": [
    "mrvan_df.to_pickle(\"data/processed_data/mrvan_1.pkl\")\n",
    "jrg_df.to_pickle(\"data/processed_data/jrg_1.pkl\")\n",
    "in_df.to_pickle(\"data/processed_data/in_1.pkl\")\n",
    "nwi_df.to_pickle(\"data/processed_data/nwi_1.pkl\")"
   ]
  }
 ],
 "metadata": {
  "kernelspec": {
   "display_name": "pbm-env",
   "language": "python",
   "name": "python3"
  },
  "language_info": {
   "codemirror_mode": {
    "name": "ipython",
    "version": 3
   },
   "file_extension": ".py",
   "mimetype": "text/x-python",
   "name": "python",
   "nbconvert_exporter": "python",
   "pygments_lexer": "ipython3",
   "version": "3.8.13 (default, Oct 19 2022, 17:54:22) \n[Clang 12.0.0 ]"
  },
  "orig_nbformat": 4,
  "vscode": {
   "interpreter": {
    "hash": "0c15b339058f8b70542acf75ffcaf47d4bb065aad2d91b68f67d6871ef81ef96"
   }
  }
 },
 "nbformat": 4,
 "nbformat_minor": 2
}
