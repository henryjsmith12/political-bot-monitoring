{
 "cells": [
  {
   "attachments": {},
   "cell_type": "markdown",
   "metadata": {},
   "source": [
    "### Random Sampling\n",
    "\n",
    "For the sake of time and my own sanity, I decided to select a random sample of tweets from 1,000 users out of the ~12,000 users. With the random sample of users, I will gather values for each account that could be indicators of bot activity. The basic heuristics that I will be checking for are the following:\n",
    "\n",
    "- Account following:follower ratio > 5\n",
    "- Account creation date < one year\n",
    "- Account tweet frequency > 72/day\n",
    "- Default account picture == yes\n",
    "- Account bio (y/n) == no\n",
    "- Average sentiment > 0.5 or < -0.5\n",
    "\n",
    "I will then combine these characteristics with the sentiment analysis to check for correlations.\n"
   ]
  },
  {
   "attachments": {},
   "cell_type": "markdown",
   "metadata": {},
   "source": [
    "The sample data file can be found in the `data` subdirectory."
   ]
  },
  {
   "cell_type": "markdown",
   "metadata": {},
   "source": []
  }
 ],
 "metadata": {
  "kernelspec": {
   "display_name": "pbm-env",
   "language": "python",
   "name": "python3"
  },
  "language_info": {
   "name": "python",
   "version": "3.8.13 (default, Oct 19 2022, 17:54:22) \n[Clang 12.0.0 ]"
  },
  "orig_nbformat": 4,
  "vscode": {
   "interpreter": {
    "hash": "0c15b339058f8b70542acf75ffcaf47d4bb065aad2d91b68f67d6871ef81ef96"
   }
  }
 },
 "nbformat": 4,
 "nbformat_minor": 2
}
