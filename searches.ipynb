{
 "cells": [
  {
   "cell_type": "markdown",
   "metadata": {},
   "source": [
    "This goal of this project is to evaluate Twitter activity surrounding congressional district IN01, and its candidates for the 2022 race, incumbent Democrat Frank Mrvan and the Republican challenger, Jennifer-Ruth Green."
   ]
  },
  {
   "cell_type": "markdown",
   "metadata": {},
   "source": [
    "### 10-29-2022 Conducting Initial Search\n",
    "\n",
    "Here are the initial search phrases:\n",
    "\n",
    "- \"Frank Mrvan\"\n",
    "- \"Mrvan\"\n",
    "- @RepMrvan\n",
    "- @Mrvan4Congress\n",
    "\n",
    "- \"Jennifer-Ruth Green\"\n",
    "- \"JRG\"\n",
    "- @JenRuthGreen\n",
    "- \"#BattleProvenLeadership\"\n",
    "\n",
    "\n",
    "\n",
    "'(\"Jennifer-Ruth Green\" OR JRG OR @JenRuthGreen) -is:retweet'\n",
    "'(\"Frank Mrvan\" OR Mrvan OR @RepMrvan) -is:retweet'\n",
    "'(#IN01 OR \"IN-01\") -is:retweet'\n",
    "'(@nwi) -is:retweet'\n",
    "'(@Mrvan4Congress) -is:retweet'\n",
    "'(#BattleProvenLeadership) -is:retweet'\n"
   ]
  },
  {
   "cell_type": "code",
   "execution_count": 40,
   "metadata": {},
   "outputs": [],
   "source": [
    "import json\n",
    "import os\n",
    "from search_twitter import searchTwitter\n",
    "import time"
   ]
  },
  {
   "cell_type": "code",
   "execution_count": 41,
   "metadata": {},
   "outputs": [],
   "source": [
    "token = ..."
   ]
  },
  {
   "cell_type": "code",
   "execution_count": 47,
   "metadata": {},
   "outputs": [
    {
     "ename": "KeyError",
     "evalue": "'next_token'",
     "output_type": "error",
     "traceback": [
      "\u001b[0;31m---------------------------------------------------------------------------\u001b[0m",
      "\u001b[0;31mKeyError\u001b[0m                                  Traceback (most recent call last)",
      "\u001b[1;32m/Users/henry/Desktop/political-bot-monitoring/searches.ipynb Cell 5\u001b[0m in \u001b[0;36m<cell line: 13>\u001b[0;34m()\u001b[0m\n\u001b[1;32m      <a href='vscode-notebook-cell:/Users/henry/Desktop/political-bot-monitoring/searches.ipynb#W4sZmlsZQ%3D%3D?line=3'>4</a>\u001b[0m results \u001b[39m=\u001b[39m []\n\u001b[1;32m      <a href='vscode-notebook-cell:/Users/henry/Desktop/political-bot-monitoring/searches.ipynb#W4sZmlsZQ%3D%3D?line=5'>6</a>\u001b[0m json_results \u001b[39m=\u001b[39m searchTwitter(\n\u001b[1;32m      <a href='vscode-notebook-cell:/Users/henry/Desktop/political-bot-monitoring/searches.ipynb#W4sZmlsZQ%3D%3D?line=6'>7</a>\u001b[0m     query_1, \n\u001b[1;32m      <a href='vscode-notebook-cell:/Users/henry/Desktop/political-bot-monitoring/searches.ipynb#W4sZmlsZQ%3D%3D?line=7'>8</a>\u001b[0m     tweet_fields,\n\u001b[0;32m   (...)\u001b[0m\n\u001b[1;32m     <a href='vscode-notebook-cell:/Users/henry/Desktop/political-bot-monitoring/searches.ipynb#W4sZmlsZQ%3D%3D?line=10'>11</a>\u001b[0m     token\n\u001b[1;32m     <a href='vscode-notebook-cell:/Users/henry/Desktop/political-bot-monitoring/searches.ipynb#W4sZmlsZQ%3D%3D?line=11'>12</a>\u001b[0m )\n\u001b[0;32m---> <a href='vscode-notebook-cell:/Users/henry/Desktop/political-bot-monitoring/searches.ipynb#W4sZmlsZQ%3D%3D?line=12'>13</a>\u001b[0m next_token \u001b[39m=\u001b[39m json_results[\u001b[39m\"\u001b[39;49m\u001b[39mmeta\u001b[39;49m\u001b[39m\"\u001b[39;49m][\u001b[39m\"\u001b[39;49m\u001b[39mnext_token\u001b[39;49m\u001b[39m\"\u001b[39;49m]\n\u001b[1;32m     <a href='vscode-notebook-cell:/Users/henry/Desktop/political-bot-monitoring/searches.ipynb#W4sZmlsZQ%3D%3D?line=13'>14</a>\u001b[0m results\u001b[39m.\u001b[39mappend(json_results)\n\u001b[1;32m     <a href='vscode-notebook-cell:/Users/henry/Desktop/political-bot-monitoring/searches.ipynb#W4sZmlsZQ%3D%3D?line=15'>16</a>\u001b[0m \u001b[39mwhile\u001b[39;00m next_token:\n",
      "\u001b[0;31mKeyError\u001b[0m: 'next_token'"
     ]
    }
   ],
   "source": [
    "query_1 = '%23BattleProvenLeadership -is:retweet'\n",
    "tweet_fields = \"tweet.fields=id,text,edit_history_tweet_ids,attachments,author_id,created_at,entities,in_reply_to_user_id,possibly_sensitive,public_metrics,source\"\n",
    "user_fields = \"user.fields=name,username,created_at,description,entities,location,pinned_tweet_id,protected,public_metrics,verified\"\n",
    "results = []\n",
    "\n",
    "json_results = searchTwitter(\n",
    "    query_1, \n",
    "    tweet_fields,\n",
    "    user_fields,\n",
    "    None,\n",
    "    token\n",
    ")\n",
    "next_token = json_results[\"meta\"][\"next_token\"]\n",
    "results.append(json_results)\n",
    "\n",
    "while next_token:\n",
    "    json_results = searchTwitter(\n",
    "        query_1, \n",
    "        tweet_fields,\n",
    "        user_fields,\n",
    "        next_token,\n",
    "        token\n",
    "    )\n",
    "    next_token = json_results[\"meta\"][\"next_token\"]\n",
    "    results.append(json_results)\n",
    "\n",
    "print(len(results) * 10)"
   ]
  },
  {
   "cell_type": "code",
   "execution_count": 48,
   "metadata": {},
   "outputs": [],
   "source": [
    "tweets = []\n",
    "for page in results:\n",
    "    for item in page[\"data\"]:\n",
    "        tweets.append(item)"
   ]
  },
  {
   "cell_type": "code",
   "execution_count": 49,
   "metadata": {},
   "outputs": [
    {
     "data": {
      "text/plain": [
       "0"
      ]
     },
     "execution_count": 49,
     "metadata": {},
     "output_type": "execute_result"
    }
   ],
   "source": [
    "len(tweets)"
   ]
  },
  {
   "cell_type": "code",
   "execution_count": 38,
   "metadata": {},
   "outputs": [],
   "source": [
    "json_tweets = json.dumps(tweets)"
   ]
  },
  {
   "cell_type": "code",
   "execution_count": 39,
   "metadata": {},
   "outputs": [],
   "source": [
    "import json\n",
    "with open('pro_jrg_1.json', 'w') as f:\n",
    "    json.dump(tweets, f)"
   ]
  },
  {
   "cell_type": "code",
   "execution_count": null,
   "metadata": {},
   "outputs": [],
   "source": []
  }
 ],
 "metadata": {
  "kernelspec": {
   "display_name": "Python 3.8.13 64-bit ('pbm-env')",
   "language": "python",
   "name": "python3"
  },
  "language_info": {
   "codemirror_mode": {
    "name": "ipython",
    "version": 3
   },
   "file_extension": ".py",
   "mimetype": "text/x-python",
   "name": "python",
   "nbconvert_exporter": "python",
   "pygments_lexer": "ipython3",
   "version": "3.8.13"
  },
  "orig_nbformat": 4,
  "vscode": {
   "interpreter": {
    "hash": "0c15b339058f8b70542acf75ffcaf47d4bb065aad2d91b68f67d6871ef81ef96"
   }
  }
 },
 "nbformat": 4,
 "nbformat_minor": 2
}
